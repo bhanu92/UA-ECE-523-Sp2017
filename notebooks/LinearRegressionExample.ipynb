{
 "cells": [
  {
   "cell_type": "markdown",
   "metadata": {},
   "source": [
    "# Linear Regression Example"
   ]
  },
  {
   "cell_type": "code",
   "execution_count": null,
   "metadata": {
    "collapsed": false
   },
   "outputs": [],
   "source": [
    "%matplotlib inline\n",
    "import numpy as np\n",
    "from sklearn.linear_model import LinearRegression, LogisticRegression\n",
    "import matplotlib.pylab as plt\n",
    "from sklearn.preprocessing import PolynomialFeatures"
   ]
  },
  {
   "cell_type": "code",
   "execution_count": null,
   "metadata": {
    "collapsed": true
   },
   "outputs": [],
   "source": [
    "def gen_cb(N, a, alpha): \n",
    "    \"\"\"\n",
    "    N: number of points on the checkerboard\n",
    "    a: width of the checker board (0<a<1)\n",
    "    alpha: rotation of the checkerboard in radians \n",
    "    \"\"\"\n",
    "    d = np.random.rand(N, 2).T\n",
    "    d_transformed = np.array([d[0]*np.cos(alpha)-d[1]*np.sin(alpha), \n",
    "                              d[0]*np.sin(alpha)+d[1]*np.cos(alpha)]).T\n",
    "    s = np.ceil(d_transformed[:,0]/a)+np.floor(d_transformed[:,1]/a)\n",
    "    lab = 2 - (s%2)\n",
    "    data = d.T\n",
    "    return data, lab \n"
   ]
  },
  {
   "cell_type": "code",
   "execution_count": null,
   "metadata": {
    "collapsed": false
   },
   "outputs": [],
   "source": [
    "poly = PolynomialFeatures(degree=25)\n",
    "lr = LogisticRegression()\n",
    "lrnl = LogisticRegression()\n",
    "sz = .5 \n",
    "angle = 3.14159/2\n",
    "\n",
    "# generate some training data and transform the feature space\n",
    "X, y = gen_cb(1000, sz, angle)\n",
    "X_orig = X.copy()\n",
    "X_new = poly.fit_transform(X)\n",
    "\n",
    "# plot the original training data \n",
    "plt.figure()\n",
    "plt.plot(X_orig[np.where(y==1)[0], 0], X_orig[np.where(y==1)[0], 1], 'o')\n",
    "plt.plot(X_orig[np.where(y==2)[0], 0], X_orig[np.where(y==2)[0], 1], 's', c = 'r')\n",
    "\n",
    "# build  a LR classifier\n",
    "lrnl.fit(X_new, y)\n",
    "lr.fit(X_orig, y)\n",
    "\n",
    "# generate some data to test the model; remember to transform the features\n",
    "# then classify the new data \n",
    "Xe, ye = gen_cb(5000, sz, angle)\n",
    "X_orig = Xe.copy()\n",
    "X_new = poly.fit_transform(Xe)\n",
    "yhat = lrnl.predict(X_new)\n",
    "yhat_lr = lr.predict(X_orig)\n",
    "\n",
    "# plot the decision boundary of our classifier\n",
    "plt.figure()\n",
    "plt.plot(X_orig[np.where(yhat_lr==1)[0], 0], X_orig[np.where(yhat_lr==1)[0], 1], 'o')\n",
    "plt.plot(X_orig[np.where(yhat_lr==2)[0], 0], X_orig[np.where(yhat_lr==2)[0], 1], 's', c = 'r')\n",
    "\n",
    "# plot the decision boundary of our classifier with poly features\n",
    "plt.figure()\n",
    "plt.plot(X_orig[np.where(yhat==1)[0], 0], X_orig[np.where(yhat==1)[0], 1], 'o')\n",
    "plt.plot(X_orig[np.where(yhat==2)[0], 0], X_orig[np.where(yhat==2)[0], 1], 's', c = 'r')"
   ]
  },
  {
   "cell_type": "code",
   "execution_count": null,
   "metadata": {
    "collapsed": false
   },
   "outputs": [],
   "source": [
    "from sklearn.datasets import make_moons\n",
    "X, y = make_moons(n_samples=1000, noise=0.2, random_state=0)\n",
    "poly = PolynomialFeatures(degree=3)\n",
    "X_new = poly.fit_transform(X)\n",
    "lr = LogisticRegression()\n",
    "lr.fit(X_new, y)\n",
    "\n",
    "plt.figure()\n",
    "plt.plot(X[np.where(y==1)[0], 0], X[np.where(y==1)[0], 1], 'o')\n",
    "plt.plot(X[np.where(y==0)[0], 0], X[np.where(y==0)[0], 1], 's', c = 'r')\n",
    "plt.show()\n",
    "\n",
    "Xte, yte = make_moons(n_samples=1000, noise=0.3, random_state=0)\n",
    "X_new = poly.fit_transform(Xte)\n",
    "yhat = lr.predict(X_new)\n",
    "\n",
    "plt.figure()\n",
    "plt.plot(Xte[np.where(yhat==1)[0], 0], Xte[np.where(yhat==1)[0], 1], 'o')\n",
    "plt.plot(Xte[np.where(yhat==0)[0], 0], Xte[np.where(yhat==0)[0], 1], 's', c = 'r')\n",
    "plt.show()\n"
   ]
  },
  {
   "cell_type": "code",
   "execution_count": null,
   "metadata": {
    "collapsed": true
   },
   "outputs": [],
   "source": []
  }
 ],
 "metadata": {
  "anaconda-cloud": {},
  "kernelspec": {
   "display_name": "Python [Root]",
   "language": "python",
   "name": "Python [Root]"
  },
  "language_info": {
   "codemirror_mode": {
    "name": "ipython",
    "version": 2
   },
   "file_extension": ".py",
   "mimetype": "text/x-python",
   "name": "python",
   "nbconvert_exporter": "python",
   "pygments_lexer": "ipython2",
   "version": "2.7.12"
  }
 },
 "nbformat": 4,
 "nbformat_minor": 0
}
