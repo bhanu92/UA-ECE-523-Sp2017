{
 "cells": [
  {
   "cell_type": "markdown",
   "metadata": {},
   "source": [
    "# Generating Data in Python Using Scientific Packages\n",
    "\n",
    "This notebook is meant to be be an introduction to data generation within the Python environment. Please issue a comment on my Github account if you would like to suggest any changes to this notebook. \n",
    "\n",
    "For more information on random variables, particularly the functions that implement their generator, refer to the [Numpy documentation](http://docs.scipy.org/doc/numpy-1.10.0/reference/routines.random.html)"
   ]
  },
  {
   "cell_type": "code",
   "execution_count": null,
   "metadata": {
    "collapsed": true
   },
   "outputs": [],
   "source": [
    "%matplotlib inline\n",
    "import numpy as np\n",
    "import matplotlib.pyplot as plt"
   ]
  },
  {
   "cell_type": "markdown",
   "metadata": {},
   "source": [
    "# Random Variables"
   ]
  },
  {
   "cell_type": "markdown",
   "metadata": {},
   "source": [
    "## Uniform Random Variables "
   ]
  },
  {
   "cell_type": "code",
   "execution_count": null,
   "metadata": {
    "collapsed": false
   },
   "outputs": [],
   "source": [
    "x = np.random.rand(1000)\n",
    "d = plt.hist(x)\n",
    "print \"The mean of x is \", np.mean(x)"
   ]
  },
  {
   "cell_type": "markdown",
   "metadata": {},
   "source": [
    "## Exponential Random Variables \n",
    "\n",
    "Draw samples from an exponential distribution.\n",
    "\n",
    "Its probability density function is\n",
    "\n",
    "$$\n",
    "f(x; \\frac{1}{\\beta}) = \\frac{1}{\\beta} \\exp(-\\frac{x}{\\beta})\n",
    "$$\n",
    "\n",
    "for $x > 0$ and $0$ elsewhere. $\\beta$ is the scale parameter, which is the inverse of the rate parameter $\\lambda = 1/\\beta$. The rate parameter is an alternative, widely used parameterization of the exponential distribution.\n",
    "\n"
   ]
  },
  {
   "cell_type": "code",
   "execution_count": null,
   "metadata": {
    "collapsed": false
   },
   "outputs": [],
   "source": [
    "beta = .2\n",
    "x = np.random.exponential(1/beta, 5000)\n",
    "d = plt.hist(x, bins = 50)\n",
    "print \"The mean of x is \", np.mean(x)"
   ]
  },
  {
   "cell_type": "markdown",
   "metadata": {},
   "source": [
    "## Poisson Random Variables\n",
    "\n",
    "The Poisson distribution\n",
    "\n",
    "$$\n",
    "f(k; \\lambda)=\\frac{\\lambda^k e^{-\\lambda}}{k!}\n",
    "$$\n",
    "\n",
    "For events with an expected separation $\\lambda$ the Poisson distribution $f(k; \\lambda)$ describes the probability of $k$ events occurring within the observed interval $\\lambda$.\n",
    "\n",
    "Because the output is limited to the range of the C long type, a ValueError is raised when lam is within 10 sigma of the maximum representable value.\n",
    "\n"
   ]
  },
  {
   "cell_type": "code",
   "execution_count": null,
   "metadata": {
    "collapsed": false
   },
   "outputs": [],
   "source": [
    "x = np.random.poisson(5, 5000)\n",
    "d = plt.hist(x, bins=10)\n",
    "print \"The mean of x is \", np.mean(x)"
   ]
  },
  {
   "cell_type": "markdown",
   "metadata": {},
   "source": [
    "## Normal Random Variables "
   ]
  },
  {
   "cell_type": "code",
   "execution_count": null,
   "metadata": {
    "collapsed": false
   },
   "outputs": [],
   "source": [
    "x = np.random.randn(10000)\n",
    "d = plt.hist(x, bins=50)\n",
    "print \"The mean of x is \", np.mean(x)"
   ]
  },
  {
   "cell_type": "markdown",
   "metadata": {},
   "source": [
    "# Multivariate Gaussian Data\n",
    "This is How"
   ]
  },
  {
   "cell_type": "code",
   "execution_count": null,
   "metadata": {
    "collapsed": false
   },
   "outputs": [],
   "source": [
    "mean = [0, 0]\n",
    "cov = [[1, 0], [0, 5]]  # diagonal covariance\n",
    "x, y = np.random.multivariate_normal(mean, cov, 5000).T\n",
    "plt.plot(x, y, 'x')\n",
    "plt.axis('equal')\n",
    "plt.xlabel('$x_1$')\n",
    "plt.ylabel('$x_2$')\n",
    "plt.show()"
   ]
  },
  {
   "cell_type": "code",
   "execution_count": null,
   "metadata": {
    "collapsed": false
   },
   "outputs": [],
   "source": [
    "mean = [0, 0]\n",
    "cov = [[1, 0], [0, 5]]  # diagonal covariance\n",
    "x = np.random.multivariate_normal(mean, cov, 5000).T # NOTICE THE TRANSPOSE\n",
    "plt.plot(x[0], x[1], 'x')\n",
    "plt.axis('equal')\n",
    "plt.xlabel('$x_1$')\n",
    "plt.ylabel('$x_2$')\n",
    "plt.show()\n",
    "print x.shape\n",
    "print x[0]\n",
    "\n",
    "x = np.random.multivariate_normal(mean, cov, 5000) # NOTICE THE TRANSPOSE IS GONE\n",
    "plt.plot(x[:, 0], x[:, 1], 'o')\n",
    "plt.axis('equal')\n",
    "plt.xlabel('$x_1$')\n",
    "plt.ylabel('$x_2$')\n",
    "plt.show()\n",
    "print \"The mean of x is \", np.mean(x, axis=0)  # compute the mean over axis 0 (i.e., one for each feature)\n",
    "print \"The mean of x is \", np.mean(x) # computes the mean of ALL of the array "
   ]
  },
  {
   "cell_type": "code",
   "execution_count": null,
   "metadata": {
    "collapsed": false
   },
   "outputs": [],
   "source": [
    "x = np.random.multivariate_normal([-1, -1], [[1, -.25], [-.25, 1]], 500).T\n",
    "y = np.random.multivariate_normal([1, 1], [[1, -.25], [-.25, 1]], 500).T\n",
    "plt.plot(x[0], x[1], 'o', c='b')\n",
    "plt.plot(y[0], y[1], 'o', c='r')\n",
    "plt.axis('equal')\n",
    "plt.xlabel('$x_1$')  # use latex in the figure axis labels\n",
    "plt.ylabel('$x_2$')\n",
    "plt.legend((\"Class 1\", \"Class 2\"))\n",
    "plt.show()"
   ]
  },
  {
   "cell_type": "code",
   "execution_count": null,
   "metadata": {
    "collapsed": false
   },
   "outputs": [],
   "source": [
    "x = np.random.multivariate_normal([-1, -1], [[1, -.25], [-.25, 1]], 5000).T\n",
    "d = plt.hist2d(x[0], x[1], bins = 50)\n",
    "plt.xlabel('$x_1$')\n",
    "plt.ylabel('$x_2$')\n"
   ]
  },
  {
   "cell_type": "markdown",
   "metadata": {
    "collapsed": true
   },
   "source": [
    "# Fun Examples of Data Generators\n",
    "\n",
    "## Checkerboard Data"
   ]
  },
  {
   "cell_type": "code",
   "execution_count": null,
   "metadata": {
    "collapsed": false
   },
   "outputs": [],
   "source": [
    "def gen_cb(N, a, alpha): \n",
    "    \"\"\"\n",
    "    N: number of points on the checkerboard\n",
    "    a: width of the checker board (0<a<1)\n",
    "    alpha: rotation of the checkerboard in radians \n",
    "    \"\"\"\n",
    "    d = np.random.rand(N, 2).T\n",
    "    d_transformed = np.array([d[0]*np.cos(alpha)-d[1]*np.sin(alpha), \n",
    "                              d[0]*np.sin(alpha)+d[1]*np.cos(alpha)]).T\n",
    "    s = np.ceil(d_transformed[:,0]/a)+np.floor(d_transformed[:,1]/a)\n",
    "    lab = 2 - (s%2)\n",
    "    data = d.T\n",
    "    return data, lab \n",
    "\n",
    "X, y = gen_cb(250, .5, 0)\n",
    "plt.plot(X[np.where(y==1)[0], 0], X[np.where(y==1)[0], 1], 'o')\n",
    "plt.plot(X[np.where(y==2)[0], 0], X[np.where(y==2)[0], 1], 's', c = 'r')\n",
    "\n",
    "X, y = gen_cb(5000, .25, 3.14159/4)\n",
    "plt.figure()\n",
    "plt.plot(X[np.where(y==1)[0], 0], X[np.where(y==1)[0], 1], 'o')\n",
    "plt.plot(X[np.where(y==2)[0], 0], X[np.where(y==2)[0], 1], 's', c = 'r')"
   ]
  },
  {
   "cell_type": "code",
   "execution_count": null,
   "metadata": {
    "collapsed": true
   },
   "outputs": [],
   "source": []
  }
 ],
 "metadata": {
  "kernelspec": {
   "display_name": "Python [Root]",
   "language": "python",
   "name": "Python [Root]"
  },
  "language_info": {
   "codemirror_mode": {
    "name": "ipython",
    "version": 2
   },
   "file_extension": ".py",
   "mimetype": "text/x-python",
   "name": "python",
   "nbconvert_exporter": "python",
   "pygments_lexer": "ipython2",
   "version": "2.7.12"
  }
 },
 "nbformat": 4,
 "nbformat_minor": 0
}
